{
  "nbformat": 4,
  "nbformat_minor": 0,
  "metadata": {
    "colab": {
      "name": "assignment4.ipynb",
      "provenance": [],
      "collapsed_sections": [],
      "authorship_tag": "ABX9TyMgWhtorEJVNxI3EZbWhUGl",
      "include_colab_link": true
    },
    "kernelspec": {
      "name": "python3",
      "display_name": "Python 3"
    }
  },
  "cells": [
    {
      "cell_type": "markdown",
      "metadata": {
        "id": "view-in-github",
        "colab_type": "text"
      },
      "source": [
        "<a href=\"https://colab.research.google.com/github/PriyankaArerao/python-assignment/blob/master/assignment4.ipynb\" target=\"_parent\"><img src=\"https://colab.research.google.com/assets/colab-badge.svg\" alt=\"Open In Colab\"/></a>"
      ]
    },
    {
      "cell_type": "markdown",
      "metadata": {
        "id": "G1dpBBxr6yga",
        "colab_type": "text"
      },
      "source": [
        "Q1] find all occurences of substring from the large string:"
      ]
    },
    {
      "cell_type": "code",
      "metadata": {
        "id": "kkwrW95M66iJ",
        "colab_type": "code",
        "colab": {
          "base_uri": "https://localhost:8080/",
          "height": 121
        },
        "outputId": "3353c18f-3342-42ef-9ef4-7460f9813b7d"
      },
      "source": [
        "str1 = input(\"enter string: \")\n",
        "substr = input(\"enter substring: \")\n",
        "print(\"indices of all the occurances of substring in string are:\")\n",
        "for i in range(len(str1)):\n",
        "    if str1.startswith(substr,i):\n",
        "        print(i)\n",
        "\n"
      ],
      "execution_count": 1,
      "outputs": [
        {
          "output_type": "stream",
          "text": [
            "enter string: we are learning python, we are from batch-6,we are enjoying python classes.\n",
            "enter substring: we\n",
            "indices of all the occurances of substring in string are:\n",
            "0\n",
            "24\n",
            "44\n"
          ],
          "name": "stdout"
        }
      ]
    },
    {
      "cell_type": "markdown",
      "metadata": {
        "id": "4oiTO-4s7aqU",
        "colab_type": "text"
      },
      "source": [
        "Q2] use methods islower() and isupper() with strings"
      ]
    },
    {
      "cell_type": "code",
      "metadata": {
        "id": "iEKYLYRN6vMG",
        "colab_type": "code",
        "colab": {
          "base_uri": "https://localhost:8080/",
          "height": 225
        },
        "outputId": "ad878865-59e5-41e0-98fd-fa44f8c2eba5"
      },
      "source": [
        "str1=\"HELLO GUYS, I AM PRIYANKA\"\n",
        "print(\"is string \\\"%s\\\" lower?=>\"%(str1))\n",
        "print(str1.islower())\n",
        "print(\"is string \\\"%s\\\" upper?=>\"%(str1))\n",
        "print(str1.isupper())\n",
        "\n",
        "str2=\"hi mahi,how are you\"\n",
        "\n",
        "print(\"is string \\\"%s\\\" lower?=>\"%(str2))\n",
        "print(str2.islower())\n",
        "print(\"is string \\\"%s\\\" upper?=>\"%(str2))\n",
        "print(str2.isupper())\n",
        "\n",
        "str3=\"Hello Guys, I Am Priyanka\"\n",
        "\n",
        "print(\"is string \\\"%s\\\" lower?=>\"%(str3))\n",
        "print(str3.islower())\n",
        "print(\"is string \\\"%s\\\" upper?=>\"%(str1))\n",
        "print(str3.isupper())\n",
        "\n"
      ],
      "execution_count": 2,
      "outputs": [
        {
          "output_type": "stream",
          "text": [
            "is string \"HELLO GUYS, I AM PRIYANKA\" lower?=>\n",
            "False\n",
            "is string \"HELLO GUYS, I AM PRIYANKA\" upper?=>\n",
            "True\n",
            "is string \"hi mahi,how are you\" lower?=>\n",
            "True\n",
            "is string \"hi mahi,how are you\" upper?=>\n",
            "False\n",
            "is string \"Hello Guys, I Am Priyanka\" lower?=>\n",
            "False\n",
            "is string \"HELLO GUYS, I AM PRIYANKA\" upper?=>\n",
            "False\n"
          ],
          "name": "stdout"
        }
      ]
    }
  ]
}