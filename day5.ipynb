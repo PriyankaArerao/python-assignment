{
  "nbformat": 4,
  "nbformat_minor": 0,
  "metadata": {
    "colab": {
      "name": "day5.ipynb",
      "provenance": [],
      "collapsed_sections": [],
      "authorship_tag": "ABX9TyOFcKXQJBH/TcFynbdLofu+",
      "include_colab_link": true
    },
    "kernelspec": {
      "name": "python3",
      "display_name": "Python 3"
    }
  },
  "cells": [
    {
      "cell_type": "markdown",
      "metadata": {
        "id": "view-in-github",
        "colab_type": "text"
      },
      "source": [
        "<a href=\"https://colab.research.google.com/github/PriyankaArerao/python-assignment/blob/master/day5.ipynb\" target=\"_parent\"><img src=\"https://colab.research.google.com/assets/colab-badge.svg\" alt=\"Open In Colab\"/></a>"
      ]
    },
    {
      "cell_type": "markdown",
      "metadata": {
        "id": "MIWXZ0J1uYKF",
        "colab_type": "text"
      },
      "source": [
        "Q1\n"
      ]
    },
    {
      "cell_type": "code",
      "metadata": {
        "id": "LKVXJXImuTUm",
        "colab_type": "code",
        "colab": {
          "base_uri": "https://localhost:8080/",
          "height": 34
        },
        "outputId": "0ac58097-3bfe-46d9-b6bf-99362adf3701"
      },
      "source": [
        "lst1 = [0,1,2,10,4,1,0,56,2,0,1,3,0,56,0,4]\n",
        "for i in range(0,len(lst1)):\n",
        "    for j in range(i+1,16):\n",
        "\n",
        "        if (lst1[i] > lst1[j]):\n",
        "            temp = lst1[i]\n",
        "            lst1[i] = lst1[j]\n",
        "            lst1[j] = temp\n",
        "print(lst1)\n"
      ],
      "execution_count": 1,
      "outputs": [
        {
          "output_type": "stream",
          "text": [
            "[0, 0, 0, 0, 0, 1, 1, 1, 2, 2, 3, 4, 4, 10, 56, 56]\n"
          ],
          "name": "stdout"
        }
      ]
    },
    {
      "cell_type": "markdown",
      "metadata": {
        "id": "PDMmda7cu72I",
        "colab_type": "text"
      },
      "source": [
        "Q2]\n"
      ]
    },
    {
      "cell_type": "code",
      "metadata": {
        "id": "OiAnfBw6u9ed",
        "colab_type": "code",
        "colab": {
          "base_uri": "https://localhost:8080/",
          "height": 34
        },
        "outputId": "56baacf3-09e3-45dc-9a8e-564a65807fb8"
      },
      "source": [
        "lst1=[10,20,40,60,70,80]\n",
        "lst2=[5,15,25,35,45,60]\n",
        "res=[]\n",
        "i,j=0,0\n",
        "while i< len(lst1) and j<len(lst2):\n",
        "    if lst1[i] < lst2[j]:\n",
        "        res.append(lst1[i])\n",
        "        i+=1\n",
        "    else:\n",
        "        res.append(lst2[j])\n",
        "        j+=1\n",
        "res=res+ lst1[i:] + lst2[j:]\n",
        "print(res)\n",
        "\n"
      ],
      "execution_count": 2,
      "outputs": [
        {
          "output_type": "stream",
          "text": [
            "[5, 10, 15, 20, 25, 35, 40, 45, 60, 60, 70, 80]\n"
          ],
          "name": "stdout"
        }
      ]
    }
  ]
}