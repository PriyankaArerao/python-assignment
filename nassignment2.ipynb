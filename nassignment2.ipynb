{
  "nbformat": 4,
  "nbformat_minor": 0,
  "metadata": {
    "colab": {
      "name": "nassignment2.ipynb",
      "provenance": [],
      "collapsed_sections": [],
      "authorship_tag": "ABX9TyMFucifY/XyF9XjXWgZPZS4",
      "include_colab_link": true
    },
    "kernelspec": {
      "name": "python3",
      "display_name": "Python 3"
    }
  },
  "cells": [
    {
      "cell_type": "markdown",
      "metadata": {
        "id": "view-in-github",
        "colab_type": "text"
      },
      "source": [
        "<a href=\"https://colab.research.google.com/github/PriyankaArerao/python-assignment/blob/master/nassignment2.ipynb\" target=\"_parent\"><img src=\"https://colab.research.google.com/assets/colab-badge.svg\" alt=\"Open In Colab\"/></a>"
      ]
    },
    {
      "cell_type": "markdown",
      "metadata": {
        "id": "SnaVrHN0WmBU",
        "colab_type": "text"
      },
      "source": [
        "Escape sequence of string"
      ]
    },
    {
      "cell_type": "code",
      "metadata": {
        "id": "owABUPUbWKvN",
        "colab_type": "code",
        "colab": {
          "base_uri": "https://localhost:8080/",
          "height": 86
        },
        "outputId": "854241c2-ec6f-4791-e149-61c76cb80d91"
      },
      "source": [
        "print(\"hello \\n priyanka\")\n",
        "print(\"hello \\t priyanka\")\n",
        "print(\"hello \\a priyanka\")\n"
      ],
      "execution_count": null,
      "outputs": [
        {
          "output_type": "stream",
          "text": [
            "hello \n",
            " priyanka\n",
            "hello \t priyanka\n",
            "hello \u0007 priyanka\n"
          ],
          "name": "stdout"
        }
      ]
    },
    {
      "cell_type": "markdown",
      "metadata": {
        "id": "fi9KC9WrW8Gj",
        "colab_type": "text"
      },
      "source": [
        "Formated output"
      ]
    },
    {
      "cell_type": "code",
      "metadata": {
        "id": "j-cRp5rzW-oQ",
        "colab_type": "code",
        "colab": {
          "base_uri": "https://localhost:8080/",
          "height": 69
        },
        "outputId": "3826e8bd-6c46-4013-a170-cb7b5f716347"
      },
      "source": [
        "name = \"priya\"\n",
        "age = 20\n",
        "marks = 90.3\n",
        "print(\"name is\",name,\"age is\",age,\"marks are\",marks)\n",
        "print(\"name is %s age is %d marks are %f\"%(name,age,marks))\n",
        "print(f\"name is {name}  marks are {marks} age is {age}\")\n"
      ],
      "execution_count": null,
      "outputs": [
        {
          "output_type": "stream",
          "text": [
            "name is priya age is 20 marks are 90.3\n",
            "name is priya age is 20 marks are 90.300000\n",
            "name is priya  marks are 90.3 age is 20\n"
          ],
          "name": "stdout"
        }
      ]
    },
    {
      "cell_type": "code",
      "metadata": {
        "id": "__lTO2W0XR9b",
        "colab_type": "code",
        "colab": {
          "base_uri": "https://localhost:8080/",
          "height": 104
        },
        "outputId": "1bb66b4f-692f-442c-8182-449f54e7368a"
      },
      "source": [
        "x=y=20\n",
        "\n",
        "print(x)\n",
        "print(y)\n",
        "print(id(x))\n",
        "print(id(y))\n",
        "print(x==y)\n"
      ],
      "execution_count": null,
      "outputs": [
        {
          "output_type": "stream",
          "text": [
            "20\n",
            "20\n",
            "10915104\n",
            "10915104\n",
            "True\n"
          ],
          "name": "stdout"
        }
      ]
    },
    {
      "cell_type": "markdown",
      "metadata": {
        "id": "om0LtZrFXbgn",
        "colab_type": "text"
      },
      "source": [
        "Identity opertors"
      ]
    },
    {
      "cell_type": "code",
      "metadata": {
        "id": "OhB4QKqqXg2V",
        "colab_type": "code",
        "colab": {
          "base_uri": "https://localhost:8080/",
          "height": 52
        },
        "outputId": "24f89845-f379-45ea-ea5b-19bbd4017d3c"
      },
      "source": [
        "print( x is y)\n",
        "print( x is not y)\n",
        "\n"
      ],
      "execution_count": null,
      "outputs": [
        {
          "output_type": "stream",
          "text": [
            "True\n",
            "False\n"
          ],
          "name": "stdout"
        }
      ]
    },
    {
      "cell_type": "markdown",
      "metadata": {
        "id": "s1dNI7-VXmtt",
        "colab_type": "text"
      },
      "source": [
        "Membership operators"
      ]
    },
    {
      "cell_type": "code",
      "metadata": {
        "id": "oa8ok3bqXqZY",
        "colab_type": "code",
        "colab": {
          "base_uri": "https://localhost:8080/",
          "height": 52
        },
        "outputId": "40a00a59-5edd-4659-f7bb-3fc3d8e5e5fd"
      },
      "source": [
        "string=\"priyanka\"\n",
        "print(\"x\" in string)\n",
        "print(\"x\" not in string)\n",
        "\n",
        "\n"
      ],
      "execution_count": null,
      "outputs": [
        {
          "output_type": "stream",
          "text": [
            "False\n",
            "True\n"
          ],
          "name": "stdout"
        }
      ]
    },
    {
      "cell_type": "markdown",
      "metadata": {
        "id": "KM5ejL-jX0Qf",
        "colab_type": "text"
      },
      "source": [
        "comparison operators"
      ]
    },
    {
      "cell_type": "code",
      "metadata": {
        "id": "ERyMt_L9X295",
        "colab_type": "code",
        "colab": {
          "base_uri": "https://localhost:8080/",
          "height": 104
        },
        "outputId": "f8c27d93-9dc1-482c-bec2-98c06c50205e"
      },
      "source": [
        "a=10\n",
        "b=2\n",
        "print(a < b)\n",
        "print(a > b)\n",
        "print(a >= b)\n",
        "print(a <= b)\n",
        "print(a != b)\n",
        "\n"
      ],
      "execution_count": null,
      "outputs": [
        {
          "output_type": "stream",
          "text": [
            "False\n",
            "True\n",
            "True\n",
            "False\n",
            "True\n"
          ],
          "name": "stdout"
        }
      ]
    },
    {
      "cell_type": "markdown",
      "metadata": {
        "id": "dJwZr9kzYJWF",
        "colab_type": "text"
      },
      "source": [
        "Bitwise operators"
      ]
    },
    {
      "cell_type": "code",
      "metadata": {
        "id": "jIq28NADYMR8",
        "colab_type": "code",
        "colab": {
          "base_uri": "https://localhost:8080/",
          "height": 34
        },
        "outputId": "0ae24450-e573-406e-c033-5a4cde44c1e6"
      },
      "source": [
        "print(24 | 2)"
      ],
      "execution_count": null,
      "outputs": [
        {
          "output_type": "stream",
          "text": [
            "26\n"
          ],
          "name": "stdout"
        }
      ]
    },
    {
      "cell_type": "code",
      "metadata": {
        "id": "3GMUvjYWYR9I",
        "colab_type": "code",
        "colab": {
          "base_uri": "https://localhost:8080/",
          "height": 34
        },
        "outputId": "813e96f9-1ab4-4671-81bf-cbde65ad8bd2"
      },
      "source": [
        "print(24 & 2)"
      ],
      "execution_count": null,
      "outputs": [
        {
          "output_type": "stream",
          "text": [
            "0\n"
          ],
          "name": "stdout"
        }
      ]
    },
    {
      "cell_type": "code",
      "metadata": {
        "id": "G14jHWmOYY0S",
        "colab_type": "code",
        "colab": {
          "base_uri": "https://localhost:8080/",
          "height": 34
        },
        "outputId": "df9439f1-373f-4d72-c7e9-d207e1ec1f66"
      },
      "source": [
        "a = 12\n",
        "print(~a)"
      ],
      "execution_count": null,
      "outputs": [
        {
          "output_type": "stream",
          "text": [
            "-13\n"
          ],
          "name": "stdout"
        }
      ]
    },
    {
      "cell_type": "markdown",
      "metadata": {
        "id": "BGnl7rRTYsW4",
        "colab_type": "text"
      },
      "source": [
        "Logical operators"
      ]
    },
    {
      "cell_type": "code",
      "metadata": {
        "id": "FkUDdLaoYwG1",
        "colab_type": "code",
        "colab": {
          "base_uri": "https://localhost:8080/",
          "height": 34
        },
        "outputId": "b7b39839-bd61-4be0-934f-f43c31b93ff7"
      },
      "source": [
        "print(a > b and a == b)"
      ],
      "execution_count": null,
      "outputs": [
        {
          "output_type": "stream",
          "text": [
            "False\n"
          ],
          "name": "stdout"
        }
      ]
    },
    {
      "cell_type": "code",
      "metadata": {
        "id": "QyKs2BQEZAKn",
        "colab_type": "code",
        "colab": {
          "base_uri": "https://localhost:8080/",
          "height": 34
        },
        "outputId": "4782d0f5-247f-4cab-8faa-172764e19685"
      },
      "source": [
        "print(a < b or a != b)"
      ],
      "execution_count": null,
      "outputs": [
        {
          "output_type": "stream",
          "text": [
            "True\n"
          ],
          "name": "stdout"
        }
      ]
    },
    {
      "cell_type": "code",
      "metadata": {
        "id": "6BWFt7m9ZKKn",
        "colab_type": "code",
        "colab": {
          "base_uri": "https://localhost:8080/",
          "height": 34
        },
        "outputId": "166448a7-e220-422d-ae56-3c965b894135"
      },
      "source": [
        "print(not a < b)"
      ],
      "execution_count": null,
      "outputs": [
        {
          "output_type": "stream",
          "text": [
            "True\n"
          ],
          "name": "stdout"
        }
      ]
    }
  ]
}