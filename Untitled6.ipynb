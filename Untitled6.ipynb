{
  "nbformat": 4,
  "nbformat_minor": 0,
  "metadata": {
    "colab": {
      "name": "Untitled6.ipynb",
      "provenance": [],
      "collapsed_sections": [],
      "authorship_tag": "ABX9TyOGDC/GLPQoDi3NMMOtHpn+",
      "include_colab_link": true
    },
    "kernelspec": {
      "name": "python3",
      "display_name": "Python 3"
    }
  },
  "cells": [
    {
      "cell_type": "markdown",
      "metadata": {
        "id": "view-in-github",
        "colab_type": "text"
      },
      "source": [
        "<a href=\"https://colab.research.google.com/github/PriyankaArerao/python-assignment/blob/master/Untitled6.ipynb\" target=\"_parent\"><img src=\"https://colab.research.google.com/assets/colab-badge.svg\" alt=\"Open In Colab\"/></a>"
      ]
    },
    {
      "cell_type": "markdown",
      "metadata": {
        "id": "Vh6kA8trJv1L",
        "colab_type": "text"
      },
      "source": [
        "  Q1] Sum of n numbers using while loop: "
      ]
    },
    {
      "cell_type": "code",
      "metadata": {
        "id": "m9lq2ZK5J6ll",
        "colab_type": "code",
        "colab": {
          "base_uri": "https://localhost:8080/",
          "height": 86
        },
        "outputId": "b4cded61-97f1-4440-f681-4dc78e0f3dd9"
      },
      "source": [
        "j=0\n",
        "sum=0\n",
        "N = int(input(\"Enter number of elements to perform sum: \"))\n",
        "print(\"Enter numbers:\")\n",
        "lst = [int(i) for i in input().split()][:N]\n",
        "\n",
        "while j in range(0,N):\n",
        "    sum=sum+lst[j]\n",
        "    j=j+1\n",
        "print(\"Sum of above elements is: %d\"%(sum))\n"
      ],
      "execution_count": 2,
      "outputs": [
        {
          "output_type": "stream",
          "text": [
            "Enter number of elements to perform sum: 4\n",
            "Enter numbers:\n",
            "12 12 30 30\n",
            "Sum of above elements is: 84\n"
          ],
          "name": "stdout"
        }
      ]
    },
    {
      "cell_type": "markdown",
      "metadata": {
        "id": "vZkYL_mRKJe9",
        "colab_type": "text"
      },
      "source": [
        "Q2] to check number is prime or not:"
      ]
    },
    {
      "cell_type": "code",
      "metadata": {
        "id": "8qufco3sKOvW",
        "colab_type": "code",
        "colab": {
          "base_uri": "https://localhost:8080/",
          "height": 52
        },
        "outputId": "ebe73040-b64f-477b-c778-01a5dad42093"
      },
      "source": [
        "num=int(input(\"Enter number: \"))\n",
        "\n",
        "\n",
        "if num >1:\n",
        "    for i in range(2,num):\n",
        "        if(num % i) == 0:\n",
        "\n",
        "\n",
        "                print(\"%d is not Prime number\"%(num))\n",
        "                break\n",
        "    else:\n",
        "            print(num,\"is prime number\")\n",
        "\n",
        "else:\n",
        "\n",
        "                print(\"%d is not Prime number\"%(num))\n"
      ],
      "execution_count": 4,
      "outputs": [
        {
          "output_type": "stream",
          "text": [
            "Enter number: 3\n",
            "3 is prime number\n"
          ],
          "name": "stdout"
        }
      ]
    }
  ]
}