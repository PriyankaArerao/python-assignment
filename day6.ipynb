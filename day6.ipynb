{
  "nbformat": 4,
  "nbformat_minor": 0,
  "metadata": {
    "colab": {
      "name": "day6.ipynb",
      "provenance": [],
      "collapsed_sections": [],
      "authorship_tag": "ABX9TyOadaw2dMGFuaaeOgasxWsh",
      "include_colab_link": true
    },
    "kernelspec": {
      "name": "python3",
      "display_name": "Python 3"
    }
  },
  "cells": [
    {
      "cell_type": "markdown",
      "metadata": {
        "id": "view-in-github",
        "colab_type": "text"
      },
      "source": [
        "<a href=\"https://colab.research.google.com/github/PriyankaArerao/python-assignment/blob/master/day6.ipynb\" target=\"_parent\"><img src=\"https://colab.research.google.com/assets/colab-badge.svg\" alt=\"Open In Colab\"/></a>"
      ]
    },
    {
      "cell_type": "markdown",
      "metadata": {
        "id": "RCRb7Eqx_Quc",
        "colab_type": "text"
      },
      "source": [
        "Q1"
      ]
    },
    {
      "cell_type": "code",
      "metadata": {
        "id": "NjfBGok5_SQI",
        "colab_type": "code",
        "colab": {
          "base_uri": "https://localhost:8080/",
          "height": 34
        },
        "outputId": "e78f1b04-0874-48f8-8110-892c966ec159"
      },
      "source": [
        "lst1=[1,2,3,4,5,7,8]\n",
        "lst2=[\"a\",\"b\",\"c\",\"d\",\"e\",\"f\",\"g\"]\n",
        "dict1={lst1[i]: lst2[i] for i in range(len(lst1))}\n",
        "print(dict1)\n"
      ],
      "execution_count": 1,
      "outputs": [
        {
          "output_type": "stream",
          "text": [
            "{1: 'a', 2: 'b', 3: 'c', 4: 'd', 5: 'e', 7: 'f', 8: 'g'}\n"
          ],
          "name": "stdout"
        }
      ]
    },
    {
      "cell_type": "code",
      "metadata": {
        "id": "v9njrF6l-3HK",
        "colab_type": "code",
        "colab": {}
      },
      "source": [
        ""
      ],
      "execution_count": null,
      "outputs": []
    }
  ]
}